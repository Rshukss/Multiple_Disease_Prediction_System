{
 "cells": [
  {
   "cell_type": "code",
   "execution_count": 12,
   "id": "ec8611fd",
   "metadata": {},
   "outputs": [],
   "source": [
    "# Imports\n",
    "import numpy as np\n",
    "import pandas as pd\n",
    "import matplotlib.pyplot as plt\n",
    "import seaborn as sns\n",
    "from pathlib import Path\n",
    "import pickle\n",
    "import json\n",
    "\n",
    "from sklearn.model_selection import train_test_split, GridSearchCV, StratifiedKFold\n",
    "from sklearn.preprocessing import StandardScaler\n",
    "from sklearn.pipeline import Pipeline\n",
    "from sklearn.svm import SVC\n",
    "from sklearn.linear_model import LogisticRegression\n",
    "from sklearn.tree import DecisionTreeClassifier\n",
    "from sklearn.ensemble import RandomForestClassifier\n",
    "from sklearn.metrics import accuracy_score, classification_report, confusion_matrix\n",
    "\n"
   ]
  },
  {
   "cell_type": "code",
   "execution_count": 14,
   "id": "60501ca1",
   "metadata": {},
   "outputs": [
    {
     "name": "stdout",
     "output_type": "stream",
     "text": [
      "(2000, 9)\n"
     ]
    },
    {
     "data": {
      "text/html": [
       "<div>\n",
       "<style scoped>\n",
       "    .dataframe tbody tr th:only-of-type {\n",
       "        vertical-align: middle;\n",
       "    }\n",
       "\n",
       "    .dataframe tbody tr th {\n",
       "        vertical-align: top;\n",
       "    }\n",
       "\n",
       "    .dataframe thead th {\n",
       "        text-align: right;\n",
       "    }\n",
       "</style>\n",
       "<table border=\"1\" class=\"dataframe\">\n",
       "  <thead>\n",
       "    <tr style=\"text-align: right;\">\n",
       "      <th></th>\n",
       "      <th>Pregnancies</th>\n",
       "      <th>Glucose</th>\n",
       "      <th>BloodPressure</th>\n",
       "      <th>SkinThickness</th>\n",
       "      <th>Insulin</th>\n",
       "      <th>BMI</th>\n",
       "      <th>DiabetesPedigreeFunction</th>\n",
       "      <th>Age</th>\n",
       "      <th>Outcome</th>\n",
       "    </tr>\n",
       "  </thead>\n",
       "  <tbody>\n",
       "    <tr>\n",
       "      <th>0</th>\n",
       "      <td>2</td>\n",
       "      <td>138</td>\n",
       "      <td>62</td>\n",
       "      <td>35</td>\n",
       "      <td>0</td>\n",
       "      <td>33.6</td>\n",
       "      <td>0.127</td>\n",
       "      <td>47</td>\n",
       "      <td>1</td>\n",
       "    </tr>\n",
       "    <tr>\n",
       "      <th>1</th>\n",
       "      <td>0</td>\n",
       "      <td>84</td>\n",
       "      <td>82</td>\n",
       "      <td>31</td>\n",
       "      <td>125</td>\n",
       "      <td>38.2</td>\n",
       "      <td>0.233</td>\n",
       "      <td>23</td>\n",
       "      <td>0</td>\n",
       "    </tr>\n",
       "    <tr>\n",
       "      <th>2</th>\n",
       "      <td>0</td>\n",
       "      <td>145</td>\n",
       "      <td>0</td>\n",
       "      <td>0</td>\n",
       "      <td>0</td>\n",
       "      <td>44.2</td>\n",
       "      <td>0.630</td>\n",
       "      <td>31</td>\n",
       "      <td>1</td>\n",
       "    </tr>\n",
       "    <tr>\n",
       "      <th>3</th>\n",
       "      <td>0</td>\n",
       "      <td>135</td>\n",
       "      <td>68</td>\n",
       "      <td>42</td>\n",
       "      <td>250</td>\n",
       "      <td>42.3</td>\n",
       "      <td>0.365</td>\n",
       "      <td>24</td>\n",
       "      <td>1</td>\n",
       "    </tr>\n",
       "    <tr>\n",
       "      <th>4</th>\n",
       "      <td>1</td>\n",
       "      <td>139</td>\n",
       "      <td>62</td>\n",
       "      <td>41</td>\n",
       "      <td>480</td>\n",
       "      <td>40.7</td>\n",
       "      <td>0.536</td>\n",
       "      <td>21</td>\n",
       "      <td>0</td>\n",
       "    </tr>\n",
       "  </tbody>\n",
       "</table>\n",
       "</div>"
      ],
      "text/plain": [
       "   Pregnancies  Glucose  BloodPressure  SkinThickness  Insulin   BMI  \\\n",
       "0            2      138             62             35        0  33.6   \n",
       "1            0       84             82             31      125  38.2   \n",
       "2            0      145              0              0        0  44.2   \n",
       "3            0      135             68             42      250  42.3   \n",
       "4            1      139             62             41      480  40.7   \n",
       "\n",
       "   DiabetesPedigreeFunction  Age  Outcome  \n",
       "0                     0.127   47        1  \n",
       "1                     0.233   23        0  \n",
       "2                     0.630   31        1  \n",
       "3                     0.365   24        1  \n",
       "4                     0.536   21        0  "
      ]
     },
     "execution_count": 14,
     "metadata": {},
     "output_type": "execute_result"
    }
   ],
   "source": [
    "# Load data\n",
    "df = pd.read_csv('data.csv')\n",
    "print(df.shape)\n",
    "df.head()\n"
   ]
  },
  {
   "cell_type": "code",
   "execution_count": 15,
   "id": "c2f0430f",
   "metadata": {},
   "outputs": [
    {
     "name": "stdout",
     "output_type": "stream",
     "text": [
      "Initial features: 8\n"
     ]
    },
    {
     "data": {
      "text/html": [
       "<div>\n",
       "<style scoped>\n",
       "    .dataframe tbody tr th:only-of-type {\n",
       "        vertical-align: middle;\n",
       "    }\n",
       "\n",
       "    .dataframe tbody tr th {\n",
       "        vertical-align: top;\n",
       "    }\n",
       "\n",
       "    .dataframe thead th {\n",
       "        text-align: right;\n",
       "    }\n",
       "</style>\n",
       "<table border=\"1\" class=\"dataframe\">\n",
       "  <thead>\n",
       "    <tr style=\"text-align: right;\">\n",
       "      <th></th>\n",
       "      <th>Pregnancies</th>\n",
       "      <th>Glucose</th>\n",
       "      <th>BloodPressure</th>\n",
       "      <th>SkinThickness</th>\n",
       "      <th>Insulin</th>\n",
       "      <th>BMI</th>\n",
       "      <th>DiabetesPedigreeFunction</th>\n",
       "      <th>Age</th>\n",
       "    </tr>\n",
       "  </thead>\n",
       "  <tbody>\n",
       "    <tr>\n",
       "      <th>0</th>\n",
       "      <td>2</td>\n",
       "      <td>138</td>\n",
       "      <td>62</td>\n",
       "      <td>35</td>\n",
       "      <td>0</td>\n",
       "      <td>33.6</td>\n",
       "      <td>0.127</td>\n",
       "      <td>47</td>\n",
       "    </tr>\n",
       "    <tr>\n",
       "      <th>1</th>\n",
       "      <td>0</td>\n",
       "      <td>84</td>\n",
       "      <td>82</td>\n",
       "      <td>31</td>\n",
       "      <td>125</td>\n",
       "      <td>38.2</td>\n",
       "      <td>0.233</td>\n",
       "      <td>23</td>\n",
       "    </tr>\n",
       "    <tr>\n",
       "      <th>2</th>\n",
       "      <td>0</td>\n",
       "      <td>145</td>\n",
       "      <td>0</td>\n",
       "      <td>0</td>\n",
       "      <td>0</td>\n",
       "      <td>44.2</td>\n",
       "      <td>0.630</td>\n",
       "      <td>31</td>\n",
       "    </tr>\n",
       "    <tr>\n",
       "      <th>3</th>\n",
       "      <td>0</td>\n",
       "      <td>135</td>\n",
       "      <td>68</td>\n",
       "      <td>42</td>\n",
       "      <td>250</td>\n",
       "      <td>42.3</td>\n",
       "      <td>0.365</td>\n",
       "      <td>24</td>\n",
       "    </tr>\n",
       "    <tr>\n",
       "      <th>4</th>\n",
       "      <td>1</td>\n",
       "      <td>139</td>\n",
       "      <td>62</td>\n",
       "      <td>41</td>\n",
       "      <td>480</td>\n",
       "      <td>40.7</td>\n",
       "      <td>0.536</td>\n",
       "      <td>21</td>\n",
       "    </tr>\n",
       "  </tbody>\n",
       "</table>\n",
       "</div>"
      ],
      "text/plain": [
       "   Pregnancies  Glucose  BloodPressure  SkinThickness  Insulin   BMI  \\\n",
       "0            2      138             62             35        0  33.6   \n",
       "1            0       84             82             31      125  38.2   \n",
       "2            0      145              0              0        0  44.2   \n",
       "3            0      135             68             42      250  42.3   \n",
       "4            1      139             62             41      480  40.7   \n",
       "\n",
       "   DiabetesPedigreeFunction  Age  \n",
       "0                     0.127   47  \n",
       "1                     0.233   23  \n",
       "2                     0.630   31  \n",
       "3                     0.365   24  \n",
       "4                     0.536   21  "
      ]
     },
     "execution_count": 15,
     "metadata": {},
     "output_type": "execute_result"
    }
   ],
   "source": [
    "# Target engineering (Diabetic=1, Non-Diabetic=0)\n",
    "y = df['Outcome'].astype(int)\n",
    "X = df.drop(columns=['Outcome'])\n",
    "feature_names_full = X.columns.tolist()\n",
    "print('Initial features:', len(feature_names_full))\n",
    "X.head()\n"
   ]
  },
  {
   "cell_type": "code",
   "execution_count": 22,
   "id": "5634c4f2",
   "metadata": {},
   "outputs": [
    {
     "name": "stdout",
     "output_type": "stream",
     "text": [
      "(1600, 8) (400, 8)\n"
     ]
    }
   ],
   "source": [
    "# Train/Test split BEFORE any fitting (prevents leakage)\n",
    "X_train_full, X_test_full, y_train, y_test = train_test_split(\n",
    "    X, y, test_size=0.20, stratify=y, random_state=42\n",
    ")\n",
    "print(X_train_full.shape, X_test_full.shape)\n"
   ]
  },
  {
   "cell_type": "code",
   "execution_count": 23,
   "id": "a6f8b04e",
   "metadata": {},
   "outputs": [
    {
     "name": "stdout",
     "output_type": "stream",
     "text": [
      "Selected features (abs corr >= 0.1 ): 6\n",
      "['Pregnancies', 'Glucose', 'Insulin', 'BMI', 'DiabetesPedigreeFunction', 'Age']\n"
     ]
    }
   ],
   "source": [
    "# Correlation-based feature selection using only training data\n",
    "train_tmp = X_train_full.copy()\n",
    "train_tmp['Target'] = y_train.values\n",
    "corr = train_tmp.corr(numeric_only=True)\n",
    "threshold = 0.1  # Using your threshold\n",
    "selected_features = [c for c in corr.columns if c != 'Target' and abs(corr.loc[c,'Target']) >= threshold]\n",
    "if not selected_features:\n",
    "    selected_features = feature_names_full\n",
    "print('Selected features (abs corr >=', threshold, '):', len(selected_features))\n",
    "print(selected_features)"
   ]
  },
  {
   "cell_type": "code",
   "execution_count": 25,
   "id": "5fd6508a",
   "metadata": {},
   "outputs": [
    {
     "data": {
      "image/png": "[encoded data removed]",
      "text/plain": [
       "<Figure size 1000x800 with 2 Axes>"
      ]
     },
     "metadata": {},
     "output_type": "display_data"
    }
   ],
   "source": [
    "# Quick visualization (optional)\n",
    "plt.figure(figsize=(10,8))\n",
    "sns.heatmap(train_df[selected_features + ['Target']].corr(), cmap='coolwarm', center=0)\n",
    "plt.title('Correlation (Train Subset)')\n",
    "plt.show()\n"
   ]
  },
  {
   "cell_type": "code",
   "execution_count": 26,
   "id": "cbc67134",
   "metadata": {},
   "outputs": [
    {
     "name": "stdout",
     "output_type": "stream",
     "text": [
      "Final shapes: (1600, 6) (400, 6)\n"
     ]
    }
   ],
   "source": [
    "X_train = X_train_full[selected_features].copy()\n",
    "X_test = X_test_full[selected_features].copy()\n",
    "print('Final shapes:', X_train.shape, X_test.shape)\n"
   ]
  },
  {
   "cell_type": "code",
   "execution_count": 27,
   "id": "66ac7fe9",
   "metadata": {},
   "outputs": [],
   "source": [
    "def eval_model(name, model, Xtr, Xte, ytr, yte):\n",
    "    return {\n",
    "        'model': name,\n",
    "        'train_acc': accuracy_score(ytr, model.predict(Xtr)),\n",
    "        'test_acc': accuracy_score(yte, model.predict(Xte))\n",
    "    }"
   ]
  },
  {
   "cell_type": "code",
   "execution_count": 28,
   "id": "b55c0329",
   "metadata": {},
   "outputs": [
    {
     "name": "stdout",
     "output_type": "stream",
     "text": [
      "Best SVM Params: {'svc__C': 100, 'svc__gamma': 'scale', 'svc__kernel': 'rbf', 'svc__probability': True}\n",
      "Best CV Accuracy: 0.8756\n"
     ]
    }
   ],
   "source": [
    "# SVM Pipeline with GridSearch (Scaling included)\n",
    "svm_pipe = Pipeline([\n",
    "    ('scaler', StandardScaler()),\n",
    "    ('svc', SVC())\n",
    "])\n",
    "\n",
    "svm_param_grid = [\n",
    "    {'svc__kernel': ['linear'], 'svc__C': [0.1, 1, 10, 100], 'svc__probability':[True]},\n",
    "    {'svc__kernel': ['rbf'], 'svc__C': [0.1, 1, 10, 100], 'svc__gamma': ['scale','auto'], 'svc__probability':[True]}\n",
    "]\n",
    "\n",
    "cv = StratifiedKFold(n_splits=5, shuffle=True, random_state=42)\n",
    "svm_grid = GridSearchCV(\n",
    "    svm_pipe, svm_param_grid, scoring='accuracy', cv=cv, n_jobs=-1, verbose=0\n",
    ")\n",
    "svm_grid.fit(X_train, y_train)\n",
    "print('Best SVM Params:', svm_grid.best_params_)\n",
    "print('Best CV Accuracy:', round(svm_grid.best_score_,4))\n",
    "best_svm = svm_grid.best_estimator_\n"
   ]
  },
  {
   "cell_type": "code",
   "execution_count": 29,
   "id": "816c0a5e",
   "metadata": {},
   "outputs": [
    {
     "name": "stdout",
     "output_type": "stream",
     "text": [
      "Best LR Params: {'lr__C': 1, 'lr__penalty': 'l2', 'lr__solver': 'lbfgs'}\n"
     ]
    }
   ],
   "source": [
    "# Logistic Regression (simple tuned grid)\n",
    "lr_pipe = Pipeline([\n",
    "    ('scaler', StandardScaler()),\n",
    "    ('lr', LogisticRegression(max_iter=500, random_state=42))\n",
    "])\n",
    "lr_params = {\n",
    "    'lr__C': [0.1,1,10],\n",
    "    'lr__penalty': ['l2'],\n",
    "    'lr__solver': ['lbfgs']\n",
    "}\n",
    "lr_grid = GridSearchCV(lr_pipe, lr_params, scoring='accuracy', cv=cv, n_jobs=-1)\n",
    "lr_grid.fit(X_train, y_train)\n",
    "print('Best LR Params:', lr_grid.best_params_)\n",
    "best_lr = lr_grid.best_estimator_\n"
   ]
  },
  {
   "cell_type": "code",
   "execution_count": 30,
   "id": "b3e920c1",
   "metadata": {},
   "outputs": [
    {
     "name": "stdout",
     "output_type": "stream",
     "text": [
      "Best DT Params: {'dt__max_depth': None, 'dt__min_samples_leaf': 1, 'dt__min_samples_split': 2}\n"
     ]
    }
   ],
   "source": [
    "# Decision Tree (light tuning)\n",
    "dt_pipe = Pipeline([\n",
    "    ('dt', DecisionTreeClassifier(random_state=42))\n",
    "])\n",
    "dt_params = {\n",
    "    'dt__max_depth': [None, 3, 5, 7, 9],\n",
    "    'dt__min_samples_split': [2, 5, 10],\n",
    "    'dt__min_samples_leaf': [1, 2, 4]\n",
    "}\n",
    "dt_grid = GridSearchCV(dt_pipe, dt_params, scoring='accuracy', cv=cv, n_jobs=-1)\n",
    "dt_grid.fit(X_train, y_train)\n",
    "print('Best DT Params:', dt_grid.best_params_)\n",
    "best_dt = dt_grid.best_estimator_\n"
   ]
  },
  {
   "cell_type": "code",
   "execution_count": 31,
   "id": "1ad5ef64",
   "metadata": {},
   "outputs": [
    {
     "name": "stdout",
     "output_type": "stream",
     "text": [
      "Best RF Params: {'rf__max_depth': None, 'rf__min_samples_leaf': 1, 'rf__min_samples_split': 2, 'rf__n_estimators': 100}\n"
     ]
    }
   ],
   "source": [
    "# Random Forest (restricted tuning to keep runtime reasonable)\n",
    "rf_pipe = Pipeline([\n",
    "    ('rf', RandomForestClassifier(random_state=42))\n",
    "])\n",
    "rf_params = {\n",
    "    'rf__n_estimators': [100, 300],\n",
    "    'rf__max_depth': [None, 5, 10],\n",
    "    'rf__min_samples_split': [2, 5],\n",
    "    'rf__min_samples_leaf': [1, 2]\n",
    "}\n",
    "rf_grid = GridSearchCV(rf_pipe, rf_params, scoring='accuracy', cv=cv, n_jobs=-1)\n",
    "rf_grid.fit(X_train, y_train)\n",
    "print('Best RF Params:', rf_grid.best_params_)\n",
    "best_rf = rf_grid.best_estimator_\n"
   ]
  },
  {
   "cell_type": "code",
   "execution_count": 34,
   "id": "aac459ac",
   "metadata": {},
   "outputs": [
    {
     "data": {
      "text/html": [
       "<div>\n",
       "<style scoped>\n",
       "    .dataframe tbody tr th:only-of-type {\n",
       "        vertical-align: middle;\n",
       "    }\n",
       "\n",
       "    .dataframe tbody tr th {\n",
       "        vertical-align: top;\n",
       "    }\n",
       "\n",
       "    .dataframe thead th {\n",
       "        text-align: right;\n",
       "    }\n",
       "</style>\n",
       "<table border=\"1\" class=\"dataframe\">\n",
       "  <thead>\n",
       "    <tr style=\"text-align: right;\">\n",
       "      <th></th>\n",
       "      <th>model</th>\n",
       "      <th>train_acc</th>\n",
       "      <th>test_acc</th>\n",
       "    </tr>\n",
       "  </thead>\n",
       "  <tbody>\n",
       "    <tr>\n",
       "      <th>0</th>\n",
       "      <td>SVM</td>\n",
       "      <td>0.940625</td>\n",
       "      <td>0.8825</td>\n",
       "    </tr>\n",
       "    <tr>\n",
       "      <th>1</th>\n",
       "      <td>LogReg</td>\n",
       "      <td>0.771250</td>\n",
       "      <td>0.8025</td>\n",
       "    </tr>\n",
       "    <tr>\n",
       "      <th>2</th>\n",
       "      <td>DecisionTree</td>\n",
       "      <td>1.000000</td>\n",
       "      <td>0.9825</td>\n",
       "    </tr>\n",
       "    <tr>\n",
       "      <th>3</th>\n",
       "      <td>RandomForest</td>\n",
       "      <td>1.000000</td>\n",
       "      <td>0.9850</td>\n",
       "    </tr>\n",
       "  </tbody>\n",
       "</table>\n",
       "</div>"
      ],
      "text/plain": [
       "          model  train_acc  test_acc\n",
       "0           SVM   0.940625    0.8825\n",
       "1        LogReg   0.771250    0.8025\n",
       "2  DecisionTree   1.000000    0.9825\n",
       "3  RandomForest   1.000000    0.9850"
      ]
     },
     "execution_count": 34,
     "metadata": {},
     "output_type": "execute_result"
    }
   ],
   "source": [
    "# Aggregate performance\n",
    "results = []\n",
    "for name, mdl in [\n",
    "    ('SVM', best_svm),\n",
    "    ('LogReg', best_lr),\n",
    "    ('DecisionTree', best_dt),\n",
    "    ('RandomForest', best_rf)\n",
    "]:\n",
    "    res = eval_model(name, mdl, X_train, X_test, y_train, y_test)\n",
    "    results.append(res)\n",
    "pd.DataFrame(results)\n"
   ]
  },
  {
   "cell_type": "code",
   "execution_count": 35,
   "id": "18bbd6e1",
   "metadata": {},
   "outputs": [
    {
     "name": "stdout",
     "output_type": "stream",
     "text": [
      "Chosen final model: RandomForest\n",
      "\n",
      "Classification Report (Test):\n",
      "              precision    recall  f1-score   support\n",
      "\n",
      "Non-Diabetic       0.99      0.99      0.99       263\n",
      "    Diabetic       0.98      0.98      0.98       137\n",
      "\n",
      "    accuracy                           0.98       400\n",
      "   macro avg       0.98      0.98      0.98       400\n",
      "weighted avg       0.98      0.98      0.98       400\n",
      "\n"
     ]
    },
    {
     "data": {
      "image/png": "[encoded data removed]",
      "text/plain": [
       "<Figure size 400x400 with 1 Axes>"
      ]
     },
     "metadata": {},
     "output_type": "display_data"
    }
   ],
   "source": [
    "# Pick best by test accuracy (tie -> first)\n",
    "results_sorted = sorted(results, key=lambda d: d['test_acc'], reverse=True)\n",
    "best_name = results_sorted[0]['model']\n",
    "print('Chosen final model:', best_name)\n",
    "\n",
    "model_map = {\n",
    "    'SVM': best_svm,\n",
    "    'LogReg': best_lr,\n",
    "    'DecisionTree': best_dt,\n",
    "    'RandomForest': best_rf\n",
    "}\n",
    "final_pipeline = model_map[best_name]\n",
    "\n",
    "# Evaluate in detail\n",
    "y_pred = final_pipeline.predict(X_test)\n",
    "print('\\nClassification Report (Test):')\n",
    "print(classification_report(y_test, y_pred, target_names=['Non-Diabetic','Diabetic']))\n",
    "cm = confusion_matrix(y_test, y_pred)\n",
    "plt.figure(figsize=(4,4))\n",
    "sns.heatmap(cm, annot=True, fmt='d', cmap='Blues', cbar=False,\n",
    "            xticklabels=['Pred Non-D','Pred D'], yticklabels=['True Non-D','True D'])\n",
    "plt.title('Confusion Matrix')\n",
    "plt.show()\n"
   ]
  },
  {
   "cell_type": "code",
   "execution_count": 38,
   "id": "1235d43e",
   "metadata": {},
   "outputs": [
    {
     "name": "stdout",
     "output_type": "stream",
     "text": [
      "Saved model to diabetes.sav\n"
     ]
    }
   ],
   "source": [
    "# Wrap final pipeline as rf_classifier (name preserved for saving)\n",
    "rf_classifier = final_pipeline  # Keeping variable name as requested\n",
    "\n",
    "# Save EXACTLY as before (pickle, same filename)\n",
    "filename = 'diabetes.sav'\n",
    "with open(filename, 'wb') as f:\n",
    "    pickle.dump(rf_classifier, f)\n",
    "print('Saved model to', filename)\n"
   ]
  },
  {
   "cell_type": "code",
   "execution_count": 39,
   "id": "48b35efb",
   "metadata": {},
   "outputs": [
    {
     "name": "stdout",
     "output_type": "stream",
     "text": [
      "Metadata saved: diabetes_metadata.json\n"
     ]
    }
   ],
   "source": [
    "# Optional metadata (not changing model save format/name)\n",
    "meta = {\n",
    "  'model_file': 'diabetes.sav',\n",
    "  'final_model_type': best_name,\n",
    "  'selected_features': selected_features,\n",
    "  'all_features_original_order': feature_names_full,\n",
    "  'best_params': (rf_classifier.named_steps['rf'].get_params() if best_name=='RF' else None),\n",
    "  'target_mapping': {'0':'Non-Diabetic','1':'Diabetic'},\n",
    "  'positive_class': 1\n",
    "}\n",
    "with open('diabetes_metadata.json','w') as f:\n",
    "    json.dump(meta, f, indent=2)\n",
    "print('Metadata saved: diabetes_metadata.json')\n"
   ]
  }
 ],
 "metadata": {
  "kernelspec": {
   "display_name": "mdps_env",
   "language": "python",
   "name": "python3"
  },
  "language_info": {
   "codemirror_mode": {
    "name": "ipython",
    "version": 3
   },
   "file_extension": ".py",
   "mimetype": "text/x-python",
   "name": "python",
   "nbconvert_exporter": "python",
   "pygments_lexer": "ipython3",
   "version": "3.12.4"
  }
 },
 "nbformat": 4,
 "nbformat_minor": 5
}
