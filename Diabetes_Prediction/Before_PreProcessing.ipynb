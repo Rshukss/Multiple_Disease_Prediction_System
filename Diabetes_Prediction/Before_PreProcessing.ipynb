{
 "cells": [
  {
   "cell_type": "code",
   "execution_count": 1,
   "id": "49afe7a4",
   "metadata": {},
   "outputs": [],
   "source": [
    "import numpy as np\n",
    "import pandas as pd\n",
    "import matplotlib.pyplot as plt"
   ]
  },
  {
   "cell_type": "code",
   "execution_count": 2,
   "id": "836b4e04",
   "metadata": {},
   "outputs": [],
   "source": [
    "df = pd.read_csv(\"data.csv\")"
   ]
  },
  {
   "cell_type": "code",
   "execution_count": 3,
   "id": "6a6bfa01",
   "metadata": {},
   "outputs": [
    {
     "data": {
      "text/html": [
       "<div>\n",
       "<style scoped>\n",
       "    .dataframe tbody tr th:only-of-type {\n",
       "        vertical-align: middle;\n",
       "    }\n",
       "\n",
       "    .dataframe tbody tr th {\n",
       "        vertical-align: top;\n",
       "    }\n",
       "\n",
       "    .dataframe thead th {\n",
       "        text-align: right;\n",
       "    }\n",
       "</style>\n",
       "<table border=\"1\" class=\"dataframe\">\n",
       "  <thead>\n",
       "    <tr style=\"text-align: right;\">\n",
       "      <th></th>\n",
       "      <th>Pregnancies</th>\n",
       "      <th>Glucose</th>\n",
       "      <th>BloodPressure</th>\n",
       "      <th>SkinThickness</th>\n",
       "      <th>Insulin</th>\n",
       "      <th>BMI</th>\n",
       "      <th>DiabetesPedigreeFunction</th>\n",
       "      <th>Age</th>\n",
       "      <th>Outcome</th>\n",
       "    </tr>\n",
       "  </thead>\n",
       "  <tbody>\n",
       "    <tr>\n",
       "      <th>0</th>\n",
       "      <td>2</td>\n",
       "      <td>138</td>\n",
       "      <td>62</td>\n",
       "      <td>35</td>\n",
       "      <td>0</td>\n",
       "      <td>33.6</td>\n",
       "      <td>0.127</td>\n",
       "      <td>47</td>\n",
       "      <td>1</td>\n",
       "    </tr>\n",
       "    <tr>\n",
       "      <th>1</th>\n",
       "      <td>0</td>\n",
       "      <td>84</td>\n",
       "      <td>82</td>\n",
       "      <td>31</td>\n",
       "      <td>125</td>\n",
       "      <td>38.2</td>\n",
       "      <td>0.233</td>\n",
       "      <td>23</td>\n",
       "      <td>0</td>\n",
       "    </tr>\n",
       "    <tr>\n",
       "      <th>2</th>\n",
       "      <td>0</td>\n",
       "      <td>145</td>\n",
       "      <td>0</td>\n",
       "      <td>0</td>\n",
       "      <td>0</td>\n",
       "      <td>44.2</td>\n",
       "      <td>0.630</td>\n",
       "      <td>31</td>\n",
       "      <td>1</td>\n",
       "    </tr>\n",
       "    <tr>\n",
       "      <th>3</th>\n",
       "      <td>0</td>\n",
       "      <td>135</td>\n",
       "      <td>68</td>\n",
       "      <td>42</td>\n",
       "      <td>250</td>\n",
       "      <td>42.3</td>\n",
       "      <td>0.365</td>\n",
       "      <td>24</td>\n",
       "      <td>1</td>\n",
       "    </tr>\n",
       "    <tr>\n",
       "      <th>4</th>\n",
       "      <td>1</td>\n",
       "      <td>139</td>\n",
       "      <td>62</td>\n",
       "      <td>41</td>\n",
       "      <td>480</td>\n",
       "      <td>40.7</td>\n",
       "      <td>0.536</td>\n",
       "      <td>21</td>\n",
       "      <td>0</td>\n",
       "    </tr>\n",
       "  </tbody>\n",
       "</table>\n",
       "</div>"
      ],
      "text/plain": [
       "   Pregnancies  Glucose  BloodPressure  SkinThickness  Insulin   BMI  \\\n",
       "0            2      138             62             35        0  33.6   \n",
       "1            0       84             82             31      125  38.2   \n",
       "2            0      145              0              0        0  44.2   \n",
       "3            0      135             68             42      250  42.3   \n",
       "4            1      139             62             41      480  40.7   \n",
       "\n",
       "   DiabetesPedigreeFunction  Age  Outcome  \n",
       "0                     0.127   47        1  \n",
       "1                     0.233   23        0  \n",
       "2                     0.630   31        1  \n",
       "3                     0.365   24        1  \n",
       "4                     0.536   21        0  "
      ]
     },
     "execution_count": 3,
     "metadata": {},
     "output_type": "execute_result"
    }
   ],
   "source": [
    "df.head()"
   ]
  },
  {
   "cell_type": "code",
   "execution_count": 4,
   "id": "051723db",
   "metadata": {},
   "outputs": [
    {
     "name": "stdout",
     "output_type": "stream",
     "text": [
      "<class 'pandas.core.frame.DataFrame'>\n",
      "RangeIndex: 2000 entries, 0 to 1999\n",
      "Data columns (total 9 columns):\n",
      " #   Column                    Non-Null Count  Dtype  \n",
      "---  ------                    --------------  -----  \n",
      " 0   Pregnancies               2000 non-null   int64  \n",
      " 1   Glucose                   2000 non-null   int64  \n",
      " 2   BloodPressure             2000 non-null   int64  \n",
      " 3   SkinThickness             2000 non-null   int64  \n",
      " 4   Insulin                   2000 non-null   int64  \n",
      " 5   BMI                       2000 non-null   float64\n",
      " 6   DiabetesPedigreeFunction  2000 non-null   float64\n",
      " 7   Age                       2000 non-null   int64  \n",
      " 8   Outcome                   2000 non-null   int64  \n",
      "dtypes: float64(2), int64(7)\n",
      "memory usage: 140.8 KB\n"
     ]
    }
   ],
   "source": [
    "df.info()"
   ]
  },
  {
   "cell_type": "code",
   "execution_count": 5,
   "id": "1a454e9f",
   "metadata": {},
   "outputs": [
    {
     "name": "stdout",
     "output_type": "stream",
     "text": [
      "<class 'pandas.core.frame.DataFrame'>\n",
      "Int64Index: 744 entries, 0 to 1568\n",
      "Data columns (total 9 columns):\n",
      " #   Column                    Non-Null Count  Dtype  \n",
      "---  ------                    --------------  -----  \n",
      " 0   Pregnancies               744 non-null    int64  \n",
      " 1   Glucose                   744 non-null    int64  \n",
      " 2   BloodPressure             744 non-null    int64  \n",
      " 3   SkinThickness             744 non-null    int64  \n",
      " 4   Insulin                   744 non-null    int64  \n",
      " 5   BMI                       744 non-null    float64\n",
      " 6   DiabetesPedigreeFunction  744 non-null    float64\n",
      " 7   Age                       744 non-null    int64  \n",
      " 8   Outcome                   744 non-null    int64  \n",
      "dtypes: float64(2), int64(7)\n",
      "memory usage: 58.1 KB\n"
     ]
    }
   ],
   "source": [
    "df = df.drop_duplicates()\n",
    "df.info()"
   ]
  },
  {
   "cell_type": "code",
   "execution_count": 6,
   "id": "2df7d0ba",
   "metadata": {},
   "outputs": [
    {
     "data": {
      "text/plain": [
       "<AxesSubplot:>"
      ]
     },
     "execution_count": 6,
     "metadata": {},
     "output_type": "execute_result"
    },
    {
     "data": {
      "image/png": "[encoded data removed]",
      "text/plain": [
       "<Figure size 720x720 with 2 Axes>"
      ]
     },
     "metadata": {
      "needs_background": "light"
     },
     "output_type": "display_data"
    }
   ],
   "source": [
    "import seaborn as sns\n",
    "plt.figure(figsize=(10,10))\n",
    "sns.heatmap(df.corr(),annot=True,fmt=\".2g\")"
   ]
  },
  {
   "cell_type": "code",
   "execution_count": 7,
   "id": "7bb63017",
   "metadata": {},
   "outputs": [
    {
     "name": "stdout",
     "output_type": "stream",
     "text": [
      "0    491\n",
      "1    253\n",
      "Name: Outcome, dtype: int64\n"
     ]
    },
    {
     "data": {
      "text/plain": [
       "<AxesSubplot:xlabel='Outcome', ylabel='count'>"
      ]
     },
     "execution_count": 7,
     "metadata": {},
     "output_type": "execute_result"
    },
    {
     "data": {
      "image/png": "[encoded data removed]",
      "text/plain": [
       "<Figure size 432x288 with 1 Axes>"
      ]
     },
     "metadata": {},
     "output_type": "display_data"
    }
   ],
   "source": [
    "print(df[\"Outcome\"].value_counts())\n",
    "\n",
    "sns.set_style(\"whitegrid\")\n",
    "sns.countplot(x = \"Outcome\", data=df, palette=\"RdBu_r\")"
   ]
  },
  {
   "cell_type": "markdown",
   "id": "5ea82488",
   "metadata": {},
   "source": [
    "0 -> Non-Diabetic\n",
    "1 -> Diabetic"
   ]
  },
  {
   "cell_type": "code",
   "execution_count": 8,
   "id": "ab76aa3a",
   "metadata": {},
   "outputs": [
    {
     "data": {
      "text/html": [
       "<div>\n",
       "<style scoped>\n",
       "    .dataframe tbody tr th:only-of-type {\n",
       "        vertical-align: middle;\n",
       "    }\n",
       "\n",
       "    .dataframe tbody tr th {\n",
       "        vertical-align: top;\n",
       "    }\n",
       "\n",
       "    .dataframe thead th {\n",
       "        text-align: right;\n",
       "    }\n",
       "</style>\n",
       "<table border=\"1\" class=\"dataframe\">\n",
       "  <thead>\n",
       "    <tr style=\"text-align: right;\">\n",
       "      <th></th>\n",
       "      <th>Pregnancies</th>\n",
       "      <th>Glucose</th>\n",
       "      <th>BloodPressure</th>\n",
       "      <th>SkinThickness</th>\n",
       "      <th>Insulin</th>\n",
       "      <th>BMI</th>\n",
       "      <th>DiabetesPedigreeFunction</th>\n",
       "      <th>Age</th>\n",
       "    </tr>\n",
       "    <tr>\n",
       "      <th>Outcome</th>\n",
       "      <th></th>\n",
       "      <th></th>\n",
       "      <th></th>\n",
       "      <th></th>\n",
       "      <th></th>\n",
       "      <th></th>\n",
       "      <th></th>\n",
       "      <th></th>\n",
       "    </tr>\n",
       "  </thead>\n",
       "  <tbody>\n",
       "    <tr>\n",
       "      <th>0</th>\n",
       "      <td>3.224033</td>\n",
       "      <td>110.490835</td>\n",
       "      <td>67.867617</td>\n",
       "      <td>20.024440</td>\n",
       "      <td>70.344196</td>\n",
       "      <td>30.592464</td>\n",
       "      <td>0.431481</td>\n",
       "      <td>31.101833</td>\n",
       "    </tr>\n",
       "    <tr>\n",
       "      <th>1</th>\n",
       "      <td>4.778656</td>\n",
       "      <td>141.079051</td>\n",
       "      <td>71.079051</td>\n",
       "      <td>22.624506</td>\n",
       "      <td>97.371542</td>\n",
       "      <td>35.407115</td>\n",
       "      <td>0.551680</td>\n",
       "      <td>37.102767</td>\n",
       "    </tr>\n",
       "  </tbody>\n",
       "</table>\n",
       "</div>"
      ],
      "text/plain": [
       "         Pregnancies     Glucose  BloodPressure  SkinThickness    Insulin  \\\n",
       "Outcome                                                                     \n",
       "0           3.224033  110.490835      67.867617      20.024440  70.344196   \n",
       "1           4.778656  141.079051      71.079051      22.624506  97.371542   \n",
       "\n",
       "               BMI  DiabetesPedigreeFunction        Age  \n",
       "Outcome                                                  \n",
       "0        30.592464                  0.431481  31.101833  \n",
       "1        35.407115                  0.551680  37.102767  "
      ]
     },
     "execution_count": 8,
     "metadata": {},
     "output_type": "execute_result"
    }
   ],
   "source": [
    "df.groupby(\"Outcome\").mean()"
   ]
  },
  {
   "cell_type": "code",
   "execution_count": 9,
   "id": "973ecebd",
   "metadata": {},
   "outputs": [],
   "source": [
    "X = df.drop(columns=\"Outcome\",axis=1)\n",
    "Y = df[\"Outcome\"]"
   ]
  },
  {
   "cell_type": "markdown",
   "id": "57ca31b1",
   "metadata": {},
   "source": [
    "# Standardizing the data"
   ]
  },
  {
   "cell_type": "code",
   "execution_count": 10,
   "id": "6236ee3a",
   "metadata": {},
   "outputs": [],
   "source": [
    "from sklearn.preprocessing import StandardScaler"
   ]
  },
  {
   "cell_type": "code",
   "execution_count": 11,
   "id": "c7ed0837",
   "metadata": {},
   "outputs": [],
   "source": [
    "scaler = StandardScaler()\n",
    "\n",
    "standardized_X = scaler.fit_transform(X)\n",
    "X = standardized_X\n",
    "Y =  df[\"Outcome\"]"
   ]
  },
  {
   "cell_type": "markdown",
   "id": "1a56cde9",
   "metadata": {},
   "source": [
    "# Train-Test Split"
   ]
  },
  {
   "cell_type": "code",
   "execution_count": 12,
   "id": "7dff866a",
   "metadata": {},
   "outputs": [],
   "source": [
    "from sklearn.model_selection import train_test_split"
   ]
  },
  {
   "cell_type": "code",
   "execution_count": 13,
   "id": "74ebf143",
   "metadata": {},
   "outputs": [],
   "source": [
    "X_train, X_test, Y_train, Y_test = train_test_split(X,Y,test_size=0.15,stratify=Y,random_state=42)"
   ]
  },
  {
   "cell_type": "code",
   "execution_count": 14,
   "id": "774ab402",
   "metadata": {},
   "outputs": [
    {
     "name": "stdout",
     "output_type": "stream",
     "text": [
      "(744, 8) (632, 8) (112, 8)\n"
     ]
    }
   ],
   "source": [
    "print(X.shape,X_train.shape,X_test.shape)"
   ]
  },
  {
   "cell_type": "markdown",
   "id": "9c799915",
   "metadata": {},
   "source": [
    "# Training the model"
   ]
  },
  {
   "cell_type": "code",
   "execution_count": 15,
   "id": "4d281826",
   "metadata": {},
   "outputs": [
    {
     "data": {
      "text/plain": [
       "SVC(kernel='linear')"
      ]
     },
     "execution_count": 15,
     "metadata": {},
     "output_type": "execute_result"
    }
   ],
   "source": [
    "from sklearn import svm\n",
    "\n",
    "svm_classifier = svm.SVC(kernel=\"linear\")\n",
    "svm_classifier.fit(X_train,Y_train)"
   ]
  },
  {
   "cell_type": "code",
   "execution_count": 16,
   "id": "aa441db2",
   "metadata": {},
   "outputs": [
    {
     "data": {
      "text/plain": [
       "LogisticRegression()"
      ]
     },
     "execution_count": 16,
     "metadata": {},
     "output_type": "execute_result"
    }
   ],
   "source": [
    "from sklearn.linear_model import LogisticRegression\n",
    "\n",
    "lr_classifier = LogisticRegression()\n",
    "lr_classifier.fit(X_train,Y_train)"
   ]
  },
  {
   "cell_type": "code",
   "execution_count": 17,
   "id": "a66376dd",
   "metadata": {},
   "outputs": [
    {
     "data": {
      "text/plain": [
       "DecisionTreeClassifier()"
      ]
     },
     "execution_count": 17,
     "metadata": {},
     "output_type": "execute_result"
    }
   ],
   "source": [
    "from sklearn.tree import DecisionTreeClassifier\n",
    "\n",
    "dt_classifier = DecisionTreeClassifier()\n",
    "dt_classifier.fit(X_train,Y_train)"
   ]
  },
  {
   "cell_type": "code",
   "execution_count": 18,
   "id": "6f6577d4",
   "metadata": {},
   "outputs": [
    {
     "data": {
      "text/plain": [
       "RandomForestClassifier()"
      ]
     },
     "execution_count": 18,
     "metadata": {},
     "output_type": "execute_result"
    }
   ],
   "source": [
    "from sklearn.ensemble import RandomForestClassifier\n",
    "\n",
    "rf_classifier = RandomForestClassifier()\n",
    "rf_classifier.fit(X_train,Y_train)"
   ]
  },
  {
   "cell_type": "markdown",
   "id": "d3a80e8e",
   "metadata": {},
   "source": [
    "# Model Evaluation"
   ]
  },
  {
   "cell_type": "code",
   "execution_count": 19,
   "id": "fe4d4c79",
   "metadata": {},
   "outputs": [
    {
     "name": "stdout",
     "output_type": "stream",
     "text": [
      "Training Accuracy:-\n",
      "1. SVM\t\t\t 0.7895569620253164 \n",
      "2. Logistic Regression\t 0.7768987341772152 \n",
      "3. Decision Tree\t 1.0 \n",
      "4. Random Forest\t 1.0\n",
      "\n",
      "\n",
      "Test Accuracy:-\n",
      "1. SVM\t\t\t 0.7410714285714286 \n",
      "2. Logistic Regression\t 0.75 \n",
      "3. Decision Tree\t 0.75 \n",
      "4. Random Forest\t 0.7589285714285714\n"
     ]
    }
   ],
   "source": [
    "from sklearn.metrics import accuracy_score\n",
    "\n",
    "#SVM\n",
    "X_train_prediction_SVM = svm_classifier.predict(X_train)\n",
    "train_acc_SVM = accuracy_score(X_train_prediction_SVM,Y_train)\n",
    "\n",
    "X_test_prediction_SVM = svm_classifier.predict(X_test)\n",
    "test_acc_SVM = accuracy_score(X_test_prediction_SVM,Y_test)\n",
    "\n",
    "#Logistic Regression\n",
    "X_train_prediction_lr = lr_classifier.predict(X_train)\n",
    "train_acc_lr = accuracy_score(X_train_prediction_lr,Y_train)\n",
    "\n",
    "X_test_prediction_lr = lr_classifier.predict(X_test)\n",
    "test_acc_lr = accuracy_score(X_test_prediction_lr,Y_test)\n",
    "\n",
    "#Decision Tree\n",
    "X_train_prediction_dt = dt_classifier.predict(X_train)\n",
    "train_acc_dt = accuracy_score(X_train_prediction_dt,Y_train)\n",
    "\n",
    "X_test_prediction_dt = dt_classifier.predict(X_test)\n",
    "test_acc_dt = accuracy_score(X_test_prediction_dt,Y_test)\n",
    "\n",
    "#Random Forest\n",
    "X_train_prediction_rf = rf_classifier.predict(X_train)\n",
    "train_acc_rf = accuracy_score(X_train_prediction_rf,Y_train)\n",
    "\n",
    "X_test_prediction_rf = rf_classifier.predict(X_test)\n",
    "test_acc_rf = accuracy_score(X_test_prediction_rf,Y_test)\n",
    "\n",
    "print(\"Training Accuracy:-\\n1. SVM\\t\\t\\t\",train_acc_SVM,\"\\n2. Logistic Regression\\t\",train_acc_lr,\"\\n3. Decision Tree\\t\",train_acc_dt,\"\\n4. Random Forest\\t\",train_acc_rf)\n",
    "print(\"\\n\\nTest Accuracy:-\\n1. SVM\\t\\t\\t\",test_acc_SVM,\"\\n2. Logistic Regression\\t\",test_acc_lr,\"\\n3. Decision Tree\\t\",test_acc_dt,\"\\n4. Random Forest\\t\",test_acc_rf)"
   ]
  },
  {
   "cell_type": "code",
   "execution_count": 20,
   "id": "dde48c7f",
   "metadata": {},
   "outputs": [
    {
     "data": {
      "image/png": "[encoded data removed]",
      "text/plain": [
       "<Figure size 360x360 with 1 Axes>"
      ]
     },
     "metadata": {},
     "output_type": "display_data"
    }
   ],
   "source": [
    "algo_names = [\"SVM\",\"LR\",\"DT\",\"RF\"]\n",
    "train_acc = [round(train_acc_SVM,3),round(train_acc_lr,3),round(train_acc_dt,3),round(train_acc_rf,3)]\n",
    "test_acc =[round(test_acc_SVM,3),round(test_acc_lr,3),round(test_acc_dt,3),round(test_acc_rf,3)]\n",
    "X_axis = np.arange(len(algo_names))\n",
    "\n",
    "plt.figure(figsize=(5,5))\n",
    "bar_width = 0.3\n",
    "plt.bar(algo_names, train_acc, width=bar_width, align='center', label='train_acc')\n",
    "plt.bar([i + bar_width for i in range(len(algo_names))], test_acc, width=bar_width, align='center', label='test_acc')\n",
    "\n",
    "for i, model in enumerate(algo_names):\n",
    "    plt.text(i, train_acc[i], str(train_acc[i]), ha='center', va='bottom', rotation=90)\n",
    "    plt.text(i + bar_width, test_acc[i], str(test_acc[i]), ha='center', va='bottom', rotation=90)\n",
    "\n",
    "plt.xticks(X_axis, algo_names)\n",
    "plt.xlabel(\"Machine Learning \")\n",
    "plt.ylabel(\"Accuracy\")\n",
    "plt.title(\"Accuracy of Different Machine Learning Algorithms\")\n",
    "plt.legend(bbox_to_anchor=(1, 1), loc='upper left')\n",
    "plt.ylim(top=max(max(train_acc), max(test_acc)) + 0.05)\n",
    "plt.grid(visible=False)\n",
    "plt.show()"
   ]
  },
  {
   "cell_type": "markdown",
   "id": "aaf63b18",
   "metadata": {},
   "source": [
    "# Model Prediction"
   ]
  },
  {
   "cell_type": "markdown",
   "id": "0d3a0252",
   "metadata": {},
   "source": [
    "Input Data:-\n",
    "\n",
    "1,181,64,30,180,34.1,0.328,38  1\n",
    "0,135,94,46,145,40.6,0.284,26  0\n",
    "1,95,82,25,180,35,0.233,43     1\n",
    "2,99,0,0,0,22.2,0.108,23       0"
   ]
  },
  {
   "cell_type": "code",
   "execution_count": 21,
   "id": "13935e8e",
   "metadata": {},
   "outputs": [
    {
     "name": "stdout",
     "output_type": "stream",
     "text": [
      "Prediciton Result: Non-Diabetic\n"
     ]
    },
    {
     "name": "stderr",
     "output_type": "stream",
     "text": [
      "C:\\ProgramData\\Anaconda3\\lib\\site-packages\\sklearn\\base.py:450: UserWarning: X does not have valid feature names, but StandardScaler was fitted with feature names\n",
      "  warnings.warn(\n"
     ]
    }
   ],
   "source": [
    "#USING TEST DATA\n",
    "input_data = (0,135,94,46,145,40.6,0.284,26)\n",
    "\n",
    "# Converting input data into a numpy array\n",
    "input_data = np.asarray(input_data)\n",
    "\n",
    "# Reshaping the numpy array to inform the model that only one input and not 768 is being provided\n",
    "input_data = input_data.reshape(1,-1)\n",
    "\n",
    "# Standardizing the input data\n",
    "standardized_input_data = scaler.transform(input_data)\n",
    "\n",
    "# Prediciting\n",
    "prediction = lr_classifier.predict(standardized_input_data)\n",
    "\n",
    "if prediction == 0:\n",
    "    print(\"Prediciton Result: Non-Diabetic\")\n",
    "else:\n",
    "    print(\"Prediciton Result: Diabetic\")"
   ]
  },
  {
   "cell_type": "markdown",
   "id": "5a146521",
   "metadata": {},
   "source": [
    "#USING CUSTOM DATA\n",
    "print(\"Enter your details:-\")\n",
    "name = input(\"Name: \")\n",
    "age = int(input(\"Age: \"))\n",
    "preg = int(input(\"Number of pregnancies: \"))\n",
    "gluc = int(input(\"Glucose Level: \"))\n",
    "bp = int(input(\"Blood Pressure: \"))\n",
    "skin = int(input(\"Skin Thickness(in mm): \"))\n",
    "insulin = int(input(\"Insulin: \"))\n",
    "bmi = float(input(\"BMI: \"))\n",
    "dpf = float(input(\"Diabetes Pedigree Function(between 0 to 1): \"))\n",
    "\n",
    "input_data = [preg,gluc,bp,skin,insulin,bmi,dpf,age]\n",
    "\n",
    "#Converting input data into a numpy array\n",
    "input_data = np.asarray(input_data)\n",
    "\n",
    "#Reshaping the numpy array to inform the model that only one input and not 768 is being provided\n",
    "input_data = input_data.reshape(1,-1)\n",
    "\n",
    "#Standardizing the input data\n",
    "standardized_input_data = scaler.transform(input_data)\n",
    "\n",
    "#Prediciting\n",
    "prediction = lr_classifier.predict(standardized_input_data)\n",
    "\n",
    "if prediction == 0:\n",
    "    print(\"Prediciton Result: Non-Diabetic\")\n",
    "else:\n",
    "    print(\"Prediciton Result: Diabetic\")"
   ]
  },
  {
   "cell_type": "markdown",
   "id": "c5db13a9",
   "metadata": {},
   "source": [
    "# Saving the model"
   ]
  },
  {
   "cell_type": "code",
   "execution_count": 22,
   "id": "e5274798",
   "metadata": {},
   "outputs": [],
   "source": [
    "import pickle\n",
    "\n",
    "filename = \"diabetes_model.sav\"\n",
    "pickle.dump(lr_classifier,open(filename,\"wb\"))"
   ]
  },
  {
   "cell_type": "code",
   "execution_count": 23,
   "id": "bca7a687",
   "metadata": {},
   "outputs": [],
   "source": [
    "loaded_model = pickle.load(open(\"diabetes_model.sav\",\"rb\"))"
   ]
  },
  {
   "cell_type": "code",
   "execution_count": null,
   "id": "ce4e3a2a",
   "metadata": {},
   "outputs": [],
   "source": []
  }
 ],
 "metadata": {
  "kernelspec": {
   "display_name": "Python 3 (ipykernel)",
   "language": "python",
   "name": "python3"
  },
  "language_info": {
   "codemirror_mode": {
    "name": "ipython",
    "version": 3
   },
   "file_extension": ".py",
   "mimetype": "text/x-python",
   "name": "python",
   "nbconvert_exporter": "python",
   "pygments_lexer": "ipython3",
   "version": "3.9.12"
  }
 },
 "nbformat": 4,
 "nbformat_minor": 5
}
